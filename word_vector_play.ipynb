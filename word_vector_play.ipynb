{
 "cells": [
  {
   "cell_type": "markdown",
   "metadata": {
    "deletable": true,
    "editable": true
   },
   "source": [
    "GloVe processes a text corpus and associates each word to a vector.\n",
    "For this specific notebook, the corpus was made usign the entire 2017-03-08 it.wikipedia, 1000 assorted Italian ebooks and 1.6M chat conversation.\n",
    "\n",
    "The compressed wikipedia dump was parsed using `plaintext_from_wikidump.py` (from [here](https://github.com/jacopofar/markov-avro-tools)), ebook text was extracted with calibre and the conversations from [IngestAdiumLogs](https://github.com/jacopofar/adium-to-avro)\n",
    "Punctuation was removed and the text was lowercased using `remove_punctuation.py`, then GloVe was executed on the resulting file of ~3 GB with these settings:\n",
    "* vector size: 100\n",
    "* ignore tokens appearing less than 15 times\n",
    "* 15 iterations\n"
   ]
  },
  {
   "cell_type": "code",
   "execution_count": 1,
   "metadata": {
    "collapsed": true,
    "deletable": true,
    "editable": true
   },
   "outputs": [],
   "source": [
    "import math\n",
    "# log of the euclidean distance, log is used to get more readable and rounding-friendly values\n",
    "# log is monotonic, so we can use the value to make comparisons\n",
    "# same goes for the N-th root where N is the vector size, that's monotonic too\n",
    "def log_distance(vec1, vec2):\n",
    "    sq_sum = sum(map(lambda t: (t[0] - t[1]) ** 2, zip(vec1,vec2)))\n",
    "    if sq_sum == 0:\n",
    "        return -float('inf')\n",
    "    return math.log(sq_sum)"
   ]
  },
  {
   "cell_type": "code",
   "execution_count": 2,
   "metadata": {
    "collapsed": false,
    "deletable": true,
    "editable": true
   },
   "outputs": [
    {
     "name": "stdout",
     "output_type": "stream",
     "text": [
      "read 0 lines\n",
      "read 50000 lines\n",
      "read 100000 lines\n",
      "read 150000 lines\n",
      "read 200000 lines\n",
      "read 250000 lines\n",
      "read 300000 lines\n",
      "read 350000 lines\n"
     ]
    }
   ],
   "source": [
    "# efficient memory representation of float arrays\n",
    "from array import array\n",
    "words_repr = {}\n",
    "for count, line in enumerate(open('/Users/utente/Documents/vector_it_100.txt','r')):\n",
    "    elems = line.split(' ')\n",
    "    words_repr[elems[0]] = array('f', map(float, elems[1:]))\n",
    "    if count % 50000 == 0:\n",
    "        print(f'read {count} lines')"
   ]
  },
  {
   "cell_type": "markdown",
   "metadata": {
    "deletable": true,
    "editable": true
   },
   "source": [
    "Let's see how it works for sample words. As expected, in-set distance between animals (gatto, topo, elefante)  and cities (milano, torino) is smaller than cross-set ones"
   ]
  },
  {
   "cell_type": "code",
   "execution_count": 3,
   "metadata": {
    "collapsed": false,
    "deletable": true,
    "editable": true
   },
   "outputs": [
    {
     "name": "stdout",
     "output_type": "stream",
     "text": [
      "elefante\n",
      "elefante\n",
      "the distance between elefante and elefante is -inf\n",
      "elefante\n",
      "topo\n",
      "the distance between elefante and topo is 2.846488685043265\n",
      "elefante\n",
      "gatto\n",
      "the distance between elefante and gatto is 2.794266804542366\n",
      "elefante\n",
      "milano\n",
      "the distance between elefante and milano is 3.9243535590223995\n",
      "elefante\n",
      "torino\n",
      "the distance between elefante and torino is 3.7918914766441203\n",
      "topo\n",
      "elefante\n",
      "the distance between topo and elefante is 2.846488685043265\n",
      "topo\n",
      "topo\n",
      "the distance between topo and topo is -inf\n",
      "topo\n",
      "gatto\n",
      "the distance between topo and gatto is 2.3345286151252216\n",
      "topo\n",
      "milano\n",
      "the distance between topo and milano is 4.046828277989919\n",
      "topo\n",
      "torino\n",
      "the distance between topo and torino is 3.9147062631693927\n",
      "gatto\n",
      "elefante\n",
      "the distance between gatto and elefante is 2.794266804542366\n",
      "gatto\n",
      "topo\n",
      "the distance between gatto and topo is 2.3345286151252216\n",
      "gatto\n",
      "gatto\n",
      "the distance between gatto and gatto is -inf\n",
      "gatto\n",
      "milano\n",
      "the distance between gatto and milano is 3.9327211009406557\n",
      "gatto\n",
      "torino\n",
      "the distance between gatto and torino is 3.853025186704441\n",
      "milano\n",
      "elefante\n",
      "the distance between milano and elefante is 3.9243535590223995\n",
      "milano\n",
      "topo\n",
      "the distance between milano and topo is 4.046828277989919\n",
      "milano\n",
      "gatto\n",
      "the distance between milano and gatto is 3.9327211009406557\n",
      "milano\n",
      "milano\n",
      "the distance between milano and milano is -inf\n",
      "milano\n",
      "torino\n",
      "the distance between milano and torino is 2.313267186432337\n",
      "torino\n",
      "elefante\n",
      "the distance between torino and elefante is 3.7918914766441203\n",
      "torino\n",
      "topo\n",
      "the distance between torino and topo is 3.9147062631693927\n",
      "torino\n",
      "gatto\n",
      "the distance between torino and gatto is 3.853025186704441\n",
      "torino\n",
      "milano\n",
      "the distance between torino and milano is 2.313267186432337\n",
      "torino\n",
      "torino\n",
      "the distance between torino and torino is -inf\n"
     ]
    }
   ],
   "source": [
    "def word_log_distance(word1, word2):\n",
    "    return log_distance(words_repr[word1], words_repr[word2])\n",
    "\n",
    "words = ['elefante', 'topo', 'gatto', 'milano', 'torino']\n",
    "\n",
    "for a in words:\n",
    "    for b in words:\n",
    "        print(a)\n",
    "        print(b)\n",
    "        couple_distance = word_log_distance(a,b)\n",
    "        print(f'the distance between {a} and {b} is {couple_distance}')"
   ]
  },
  {
   "cell_type": "markdown",
   "metadata": {
    "deletable": true,
    "editable": true
   },
   "source": [
    "now let's look for the vectors close to a given one"
   ]
  },
  {
   "cell_type": "code",
   "execution_count": 4,
   "metadata": {
    "collapsed": false,
    "deletable": true,
    "editable": true
   },
   "outputs": [
    {
     "name": "stdout",
     "output_type": "stream",
     "text": [
      "mano vector: array('f', [0.6919599771499634, 0.045556001365184784, 0.5272369980812073, 0.486378014087677, -0.3290340006351471, 0.5753369927406311, 0.3282040059566498, 0.14870400726795197, 0.6593790054321289, -0.4817349910736084, 0.21461600065231323, -0.602387011051178, -0.06331700086593628, 0.2917340099811554, -0.34991100430488586, 0.007501999847590923, -0.22546599805355072, 0.7400839924812317, 0.6441119909286499, 0.7058770060539246, -0.39807599782943726, -0.07347699999809265, -0.023214999586343765, -0.47804999351501465, 0.4521610140800476, -0.4790300130844116, 0.19309300184249878, 0.27258700132369995, -0.9146460294723511, 0.34329500794410706, -0.6239799857139587, -0.04706500098109245, -0.33723101019859314, 0.36100199818611145, -0.5046340227127075, -0.5703129768371582, -0.6465820074081421, -0.09659499675035477, 0.6791830062866211, 0.03311900049448013, 0.6746820211410522, 0.17448699474334717, -0.8768200278282166, 0.42315199971199036, -0.44227099418640137, -0.6582059860229492, 0.31212401390075684, 3.687791109085083, 0.8122609853744507, 0.34791499376296997, -0.11167600005865097, -0.3324120044708252, -0.20792999863624573, 0.8887900114059448, 0.32196900248527527, 0.6728270053863525, 0.22001299262046814, 0.01385200023651123, -0.5642960071563721, -0.2366109937429428, -0.6305789947509766, 0.3304539918899536, -0.10647200047969818, -0.6332550048828125, 0.19746500253677368, 0.2639400064945221, -0.34500399231910706, -0.7784919738769531, -0.5981550216674805, -0.0932369977235794, 0.6869339942932129, -0.17291000485420227, 0.07009100168943405, -0.14445699751377106, 0.24404199421405792, 0.29259800910949707, 0.6224560141563416, -0.08556699752807617, -0.06779100000858307, 0.03801099956035614, -0.21854500472545624, 0.011799000203609467, -0.49209699034690857, -0.22710199654102325, 0.46124300360679626, -0.5084890127182007, 0.24723699688911438, 0.37321001291275024, 0.4735940098762512, -0.6208490133285522, -0.3746950030326843, 0.15926000475883484, -0.9753699898719788, 0.527413010597229, 0.0350399985909462, 0.5949739813804626, -0.6421509981155396, -0.5085449814796448, -0.5655310153961182, -0.39169999957084656])\n",
      "braccio vector: array('f', [0.5433719754219055, 0.552649974822998, 0.20435400307178497, 0.6539599895477295, -0.18008799850940704, 0.30314400792121887, 0.019209999591112137, 0.13607199490070343, 0.41667601466178894, -0.25535500049591064, 0.661516010761261, -0.39783498644828796, 0.028341999277472496, 0.14580300450325012, 0.03505399823188782, 0.15271200239658356, -0.32107898592948914, 0.7452269792556763, 0.3166869878768921, 0.4127269983291626, -0.10041999816894531, -0.11928100138902664, -0.18918199837207794, -0.8409929871559143, 0.7517989873886108, -0.882420003414154, 0.7130339741706848, -0.046542998403310776, -0.6875119805335999, 0.30801400542259216, -0.5099959969520569, 0.1123799979686737, -0.3742330074310303, 0.5936660170555115, -0.07376199960708618, 0.0012420000275596976, -0.616720974445343, 0.017069000750780106, 0.3179349899291992, -0.05473899841308594, 0.9854769706726074, -0.2374349981546402, -1.3082610368728638, 0.03964899852871895, 0.05416199937462807, -0.8772760033607483, 0.5006080269813538, 2.978549003601074, -0.46415600180625916, 0.6175259947776794, -0.5517280101776123, 0.0051299999468028545, -0.20463499426841736, 0.7090780138969421, 0.1818690001964569, 0.5317670106887817, -0.09559900313615799, 0.07607699930667877, -0.7435770034790039, 0.37283799052238464, -0.6318879723548889, 0.22114400565624237, -0.2977350056171417, -0.6224899888038635, 0.3919290006160736, 0.19399599730968475, -0.8073030114173889, -0.10435599833726883, -1.0388129949569702, 0.37517300248146057, -0.09480000287294388, 0.287324994802475, 0.09399300068616867, 0.07662799954414368, 0.525646984577179, 0.2225559949874878, 0.9974669814109802, -0.4211620092391968, -0.6437770128250122, -0.17245599627494812, -0.18178300559520721, -0.037067998200654984, -0.452796995639801, -0.3593139946460724, -0.04006600007414818, -0.5157560110092163, -0.0160559993237257, 0.5965970158576965, 0.5410029888153076, -0.5872359871864319, -0.22125299274921417, -0.30218198895454407, -0.8426790237426758, 0.06457799673080444, -0.14368100464344025, 0.05354699864983559, -0.9609140157699585, 0.06212500110268593, -0.5712370276451111, -0.2796500027179718])\n",
      "piede vector: array('f', [0.16369999945163727, 0.905830979347229, -0.05628399923443794, 0.4055030047893524, 0.3695259988307953, 0.3051539957523346, 0.5670710206031799, 0.27242499589920044, 0.704101026058197, 0.3082619905471802, 0.4312349855899811, -0.2666729986667633, -0.01418600045144558, 0.6931599974632263, -0.20342999696731567, -0.500777006149292, 0.6309700012207031, 0.15535099804401398, 0.70204097032547, 0.44361698627471924, -0.17711399495601654, -0.22527499496936798, -0.08944600075483322, -0.5980389714241028, 1.0002059936523438, -0.4169600009918213, 0.8418650031089783, 0.03279900178313255, -0.6672589778900146, 0.19116300344467163, -0.24487900733947754, 0.45306500792503357, -0.5815680027008057, -0.27405399084091187, -0.46019500494003296, 0.1372700035572052, -0.5879799723625183, 0.01351999957114458, 0.6233950257301331, -0.22459499537944794, 0.8535810112953186, -0.223689004778862, -1.1103960275650024, 0.12309099733829498, -0.17611399292945862, -0.39430201053619385, 0.6138120293617249, 2.437203884124756, -0.20085400342941284, 0.14750799536705017, -0.3770970106124878, -0.2681179940700531, -0.15364700555801392, 0.15819400548934937, 0.2083899974822998, 0.5363140106201172, -0.6309850215911865, -0.1590469926595688, -0.18386200070381165, 0.8645179867744446, -0.4350230097770691, 0.14822199940681458, -0.5124229788780212, -0.19922800362110138, -0.289467990398407, 0.1402679979801178, -0.1918179988861084, 0.08144599944353104, -0.24559399485588074, 0.08175600320100784, 0.6547849774360657, -0.4240820109844208, 0.4173460006713867, 0.1849379986524582, 0.3341600000858307, -0.20595400035381317, 0.45126399397850037, -0.09373000264167786, -0.009707000106573105, 0.040045998990535736, 0.4875760078430176, 0.4156450033187866, -0.37066400051116943, -0.2572749853134155, -0.416608989238739, -0.1884389966726303, -0.26096099615097046, 0.19006399810314178, 0.17231599986553192, -0.8086709976196289, 0.48410001397132874, -0.0625159963965416, -1.0662100315093994, -0.15557800233364105, -0.20884199440479279, -0.10966899991035461, -0.2779879868030548, 0.33514800667762756, -0.2610520124435425, -0.292356014251709])\n",
      "gamba vector: array('f', [0.2911660075187683, 0.21572299301624298, 0.9170920252799988, 0.7157989740371704, 0.24635399878025055, 0.47247201204299927, 0.33266299962997437, -0.0922050029039383, 0.5108439922332764, -0.014170999638736248, 0.3470430076122284, 0.04668999835848808, 0.2698040008544922, -0.16194100677967072, -0.47852298617362976, -0.1350560039281845, 0.33629000186920166, 0.13561700284481049, 0.8272029757499695, 0.7743930220603943, -0.28270798921585083, -0.036242999136447906, 0.2002830058336258, -0.6090369820594788, 0.6341009736061096, -0.4261850118637085, -0.15423700213432312, -0.06781099736690521, -0.19658400118350983, 0.26448699831962585, -0.17101599276065826, 0.6823539733886719, -0.7855219841003418, -0.3524169921875, -0.5872679948806763, 0.014530000276863575, -0.8513749837875366, -0.04687799885869026, 0.3017660081386566, -0.47056201100349426, 0.8391780257225037, -0.22842900454998016, -1.4283779859542847, -0.04248499870300293, -0.24694499373435974, -0.6304900050163269, 0.6192629933357239, 2.1776440143585205, -0.3024410009384155, 0.07255899906158447, -0.15366199612617493, -0.4370880126953125, -0.7842029929161072, 0.32149800658226013, 0.3505699932575226, 0.3305400013923645, -0.12210000306367874, -0.3084680140018463, -0.7190999984741211, 0.5756829977035522, 0.4514029920101166, 0.028635000810027122, -0.6550089716911316, -0.2255679965019226, -0.19860300421714783, 0.3149160146713257, -0.3014029860496521, 0.058129001408815384, -0.30620500445365906, -0.07210800051689148, 0.5973820090293884, -0.34630098938941956, -0.04718000069260597, 0.0682850033044815, 0.9241099953651428, 0.42935100197792053, 0.6261630058288574, -0.14025400578975677, -0.6157580018043518, -0.5977299809455872, -0.22288799285888672, -0.12034700065851212, -0.02878499962389469, -0.47895801067352295, 0.16359399259090424, 0.07982999831438065, -0.13535700738430023, 0.5774499773979187, 0.29349300265312195, -0.633571982383728, -0.5754510164260864, -0.2966510057449341, -0.9025660157203674, -0.2791750133037567, 0.5732929706573486, -0.7047899961471558, -0.5959259867668152, 0.25453799962997437, -0.5418649911880493, -0.20902100205421448])\n",
      "analogy array('f', [0.015111997723579407, 1.4129250049591064, -0.37916702032089233, 0.5730849504470825, 0.5184720158576965, 0.03296101093292236, 0.2580770254135132, 0.2597929835319519, 0.46139803528785706, 0.5346419811248779, 0.8781349658966064, -0.06212097406387329, 0.0774729996919632, 0.547228991985321, 0.181535005569458, -0.35556700825691223, 0.5353569984436035, 0.16049398481845856, 0.37461596727371216, 0.15046697854995728, 0.1205420047044754, -0.27107900381088257, -0.2554129958152771, -0.9609819650650024, 1.2998440265655518, -0.8203499913215637, 1.3618059158325195, -0.2863309979438782, -0.4401249289512634, 0.15588200092315674, -0.13089501857757568, 0.6125100255012512, -0.6185699701309204, -0.04138997197151184, -0.02932298183441162, 0.7088249921798706, -0.5581189393997192, 0.12718400359153748, 0.2621470093727112, -0.3124530017375946, 1.1643760204315186, -0.6356109976768494, -1.5418369770050049, -0.26041197776794434, 0.3203189969062805, -0.6133720278739929, 0.8022960424423218, 1.727961778640747, -1.4772710800170898, 0.41711899638175964, -0.8171490430831909, 0.06942400336265564, -0.15035200119018555, -0.02151799201965332, 0.06828999519348145, 0.3952540159225464, -0.9465969800949097, -0.09682199358940125, -0.3631429970264435, 1.4739669561386108, -0.43633198738098145, 0.03891201317310333, -0.703685998916626, -0.1884629875421524, -0.09500399231910706, 0.07032398879528046, -0.6541169881820679, 0.7555819749832153, -0.6862519979476929, 0.5501660108566284, -0.1269490122795105, 0.03615298867225647, 0.44124799966812134, 0.4060229957103729, 0.6157649755477905, -0.27599602937698364, 0.8262749910354614, -0.42932501435279846, -0.5856930017471313, -0.17042100429534912, 0.5243380069732666, 0.36677801609039307, -0.3313640058040619, -0.38948696851730347, -0.9179179668426514, -0.19570599496364594, -0.5242539644241333, 0.41345101594924927, 0.23972497880458832, -0.7750579714775085, 0.6375420093536377, -0.5239579677581787, -0.9335190653800964, -0.6184130311012268, -0.38756299018859863, -0.651095986366272, -0.5967509746551514, 0.905817985534668, -0.2667580246925354, -0.18030601739883423])\n",
      "a1 from ana: 3.86716666183529\n",
      "a2 from ana: 2.9775629496850677\n",
      "b1 from ana: 2.438374375902779\n",
      "b2 from ana: 3.2259803459398557\n",
      "looking for words closest to analogy vector...\n",
      "MOST LIKELY MATCH: gomito with distance 3.026837503528378 - is for braccio what mano is for piede\n",
      "MOST LIKELY MATCH: destro with distance 3.0833478588383842 - is for braccio what mano is for piede\n",
      "MOST LIKELY MATCH: piegato with distance 3.1559971495775345 - is for braccio what mano is for piede\n"
     ]
    }
   ],
   "source": [
    "def closest(vec, ignorelist=[]):\n",
    "    max_dist_so_far = float('inf')\n",
    "    closest_word = None\n",
    "    closest_vec = None\n",
    "    for w,v in words_repr.items():\n",
    "        if w in ignorelist:\n",
    "            continue\n",
    "        this_dist = log_distance(v, vec)\n",
    "        if this_dist < max_dist_so_far:\n",
    "            max_dist_so_far = this_dist\n",
    "            # print(f'closest so far {w}, at distance {max_dist_so_far}')\n",
    "            closest_word = w\n",
    "            closest_vec = v\n",
    "    return closest_word, closest_vec, max_dist_so_far\n",
    "\n",
    "\n",
    "def difference(vec1, vec2):\n",
    "    return array('f', map(lambda t: t[0] - t[1], zip(vec1,vec2)))\n",
    "\n",
    "def addition(vec1, vec2):\n",
    "    return array('f', map(lambda t: t[0] + t[1], zip(vec1,vec2)))\n",
    "# \"input1 is for output1 what input2 is for return value\"\n",
    "# e.g.: paris is for france what rome is for italy - rome is the returned value\n",
    "def word_analogy(input1, output1, input2):\n",
    "    return addition(words_repr[input2], difference(words_repr[output1], words_repr[input1]))\n",
    "\n",
    "\n",
    "#print(closest(word_analogy('roma', 'parigi', 'italia')))\n",
    "a1 = 'mano'\n",
    "a2 = 'braccio'\n",
    "b1 = 'piede'\n",
    "b2 = 'gamba'\n",
    "\n",
    "v_a1 = words_repr[a1]\n",
    "v_a2 = words_repr[a2]\n",
    "v_b1 = words_repr[b1]\n",
    "v_b2 = words_repr[b2]\n",
    "\n",
    "\n",
    "print(f'{a1} vector: {v_a1}')\n",
    "print(f'{a2} vector: {v_a2}')\n",
    "print(f'{b1} vector: {v_b1}')\n",
    "print(f'{b2} vector: {v_b2}')\n",
    "\n",
    "\n",
    "ana_vector = word_analogy(a1, a2, b1)\n",
    "\n",
    "print('analogy', ana_vector)\n",
    "print(f'a1 from ana: {log_distance(ana_vector, v_a1)}')\n",
    "print(f'a2 from ana: {log_distance(ana_vector, v_a2)}')\n",
    "print(f'b1 from ana: {log_distance(ana_vector, v_b1)}')\n",
    "print(f'b2 from ana: {log_distance(ana_vector, v_b2)}')\n",
    "print('looking for words closest to analogy vector...')\n",
    "\n",
    "ignoreus = [a1, a2, b1]\n",
    "closest_tuple = closest(ana_vector, ignorelist=ignoreus)\n",
    "print(f'MOST LIKELY MATCH: {closest_tuple[0]} with distance {closest_tuple[2]} - is for {a2} what {a1} is for {b1}', )\n",
    "ignoreus.append(closest_tuple[0])\n",
    "\n",
    "closest_tuple = closest(ana_vector, ignorelist=ignoreus)\n",
    "print(f'MOST LIKELY MATCH: {closest_tuple[0]} with distance {closest_tuple[2]} - is for {a2} what {a1} is for {b1}', )\n",
    "ignoreus.append(closest_tuple[0])\n",
    "\n",
    "closest_tuple = closest(ana_vector, ignorelist=ignoreus)\n",
    "print(f'MOST LIKELY MATCH: {closest_tuple[0]} with distance {closest_tuple[2]} - is for {a2} what {a1} is for {b1}', )\n",
    "ignoreus.append(closest_tuple[0])"
   ]
  },
  {
   "cell_type": "code",
   "execution_count": 6,
   "metadata": {
    "collapsed": false,
    "deletable": true,
    "editable": true,
    "scrolled": true
   },
   "outputs": [
    {
     "name": "stdout",
     "output_type": "stream",
     "text": [
      "retrieving distance dictionary...\n",
      "0 - CLOSEST TO cubo: cubo with distance -inf, it took 36 seconds\n",
      "1 - CLOSEST TO cubo: parallelepipedo with distance 2.5780685544093145, it took 36 seconds\n",
      "2 - CLOSEST TO cubo: quadrato with distance 2.683741353846279, it took 36 seconds\n",
      "3 - CLOSEST TO cubo: centimetro with distance 2.71290363888691, it took 36 seconds\n",
      "4 - CLOSEST TO cubo: rettangolo with distance 2.7437298297038977, it took 36 seconds\n",
      "5 - CLOSEST TO cubo: sferico with distance 2.7442105104057255, it took 36 seconds\n",
      "6 - CLOSEST TO cubo: millimetro with distance 2.7760517644305347, it took 36 seconds\n",
      "7 - CLOSEST TO cubo: avente with distance 2.813669030830409, it took 36 seconds\n",
      "8 - CLOSEST TO cubo: mancante with distance 2.8395540458643462, it took 36 seconds\n",
      "9 - CLOSEST TO cubo: moltiplicato with distance 2.842290351403379, it took 36 seconds\n",
      "10 - CLOSEST TO cubo: cubi with distance 2.843216477237865, it took 36 seconds\n",
      "11 - CLOSEST TO cubo: posizionepaese20px20px20pxtotale with distance 2.8705263197036506, it took 36 seconds\n",
      "12 - CLOSEST TO cubo: prisma with distance 2.882550765798661, it took 36 seconds\n",
      "13 - CLOSEST TO cubo: cerchio with distance 2.9000529547132134, it took 36 seconds\n",
      "14 - CLOSEST TO cubo: consideriamo with distance 2.9017520983425777, it took 36 seconds\n",
      "15 - CLOSEST TO cubo: paragone with distance 2.9033159624936684, it took 36 seconds\n",
      "16 - CLOSEST TO cubo: scrib with distance 2.911439571634163, it took 36 seconds\n",
      "17 - CLOSEST TO cubo: tetraedro with distance 2.9164607852079407, it took 36 seconds\n",
      "18 - CLOSEST TO cubo: sandaniele with distance 2.932024188484284, it took 36 seconds\n",
      "19 - CLOSEST TO cubo: recipiente with distance 2.933321983615751, it took 36 seconds\n"
     ]
    }
   ],
   "source": [
    "import time\n",
    "import operator\n",
    "def distances_dict(target_vector):\n",
    "    result = {}\n",
    "    for w,v in words_repr.items():\n",
    "        this_dist = log_distance(v, target_vector)\n",
    "        result[w] = this_dist\n",
    "    return result\n",
    "\n",
    "start_time = time.time()\n",
    "target_word = 'cubo'\n",
    "target_vector = words_repr[target_word]\n",
    "print('retrieving distance dictionary...')\n",
    "dists = distances_dict(target_vector)\n",
    "# sort KV pairs by descending order of values\n",
    "sorted_dists = sorted(dists.items(), key=operator.itemgetter(1))\n",
    "elapsed_time = round(time.time() - start_time)\n",
    "for k in range(20):\n",
    "    print(f'{k} - CLOSEST TO {target_word}: {sorted_dists[k][0]} with distance {sorted_dists[k][1]}, it took {elapsed_time} seconds')\n",
    "\n",
    "#closest_tuple = closest(words_repr[a_word], ignorelist=[a_word, 'torino'])"
   ]
  },
  {
   "cell_type": "code",
   "execution_count": null,
   "metadata": {
    "collapsed": true
   },
   "outputs": [],
   "source": [
    ""
   ]
  }
 ],
 "metadata": {
  "kernelspec": {
   "display_name": "Python 3",
   "language": "python",
   "name": "python3"
  },
  "language_info": {
   "codemirror_mode": {
    "name": "ipython",
    "version": 3.0
   },
   "file_extension": ".py",
   "mimetype": "text/x-python",
   "name": "python",
   "nbconvert_exporter": "python",
   "pygments_lexer": "ipython3",
   "version": "3.6.0"
  }
 },
 "nbformat": 4,
 "nbformat_minor": 0
}