{
 "cells": [
  {
   "cell_type": "markdown",
   "metadata": {
    "deletable": true,
    "editable": true
   },
   "source": [
    "This notebook generate text using a Markov chain based on the text from the chat messages"
   ]
  },
  {
   "cell_type": "code",
   "execution_count": 1,
   "metadata": {
    "collapsed": false,
    "deletable": true,
    "editable": true
   },
   "outputs": [
    {
     "name": "stdout",
     "output_type": "stream",
     "text": [
      "connection encoding, used as default: UTF8\n"
     ]
    }
   ],
   "source": [
    "import psycopg2\n",
    "conn = psycopg2.connect(user=\"postgres\", password=\"mysecretpassword\", host=\"localhost\")\n",
    "# should be UTF-8\n",
    "print('connection encoding, used as default:', conn.encoding)"
   ]
  },
  {
   "cell_type": "markdown",
   "metadata": {
    "deletable": true,
    "editable": true
   },
   "source": [
    "Now use the DB to generate sequences"
   ]
  },
  {
   "cell_type": "code",
   "execution_count": 3,
   "metadata": {
    "collapsed": false,
    "deletable": true,
    "editable": true,
    "scrolled": true
   },
   "outputs": [
    {
     "name": "stdout",
     "output_type": "stream",
     "text": [
      "chose poi\n",
      "partial answer: \n",
      "chose che\n",
      "partial answer: poi\n",
      "chose ne\n",
      "partial answer: poi che\n",
      "chose faccio\n",
      "partial answer: poi che ne\n",
      "chose da\n",
      "partial answer: poi che ne faccio\n",
      "chose che\n",
      "partial answer: poi che ne faccio da\n",
      "chose fare\n",
      "partial answer: poi che ne faccio da che\n",
      "chose che\n",
      "partial answer: poi che ne faccio da che fare\n",
      "chose sì\n",
      "partial answer: poi che ne faccio da che fare che\n",
      "chose non\n",
      "partial answer: poi che ne faccio da che fare che sì\n",
      "chose solo\n",
      "partial answer: poi che ne faccio da che fare che sì non\n",
      "chose con\n",
      "partial answer: poi che ne faccio da che fare che sì non solo\n",
      "chose l'altro\n",
      "partial answer: poi che ne faccio da che fare che sì non solo con\n",
      "chose che\n",
      "partial answer: poi che ne faccio da che fare che sì non solo con l'altro\n",
      "chose a\n",
      "partial answer: poi che ne faccio da che fare che sì non solo con l'altro che\n",
      "chose una\n",
      "partial answer: poi che ne faccio da che fare che sì non solo con l'altro che a\n",
      "chose volta\n",
      "partial answer: poi che ne faccio da che fare che sì non solo con l'altro che a una\n",
      "chose un\n",
      "partial answer: poi che ne faccio da che fare che sì non solo con l'altro che a una volta\n",
      "chose bel\n",
      "partial answer: poi che ne faccio da che fare che sì non solo con l'altro che a una volta un\n",
      "chose sorriso\n",
      "partial answer: poi che ne faccio da che fare che sì non solo con l'altro che a una volta un bel\n",
      "chose e\n",
      "partial answer: poi che ne faccio da che fare che sì non solo con l'altro che a una volta un bel sorriso\n",
      "chose mi\n",
      "partial answer: poi che ne faccio da che fare che sì non solo con l'altro che a una volta un bel sorriso e\n",
      "chose ha\n",
      "partial answer: poi che ne faccio da che fare che sì non solo con l'altro che a una volta un bel sorriso e mi\n",
      "chose in\n",
      "partial answer: poi che ne faccio da che fare che sì non solo con l'altro che a una volta un bel sorriso e mi ha\n",
      "chose spiaggia\n",
      "partial answer: poi che ne faccio da che fare che sì non solo con l'altro che a una volta un bel sorriso e mi ha in\n",
      "chose per\n",
      "partial answer: poi che ne faccio da che fare che sì non solo con l'altro che a una volta un bel sorriso e mi ha in spiaggia\n",
      "chose paura\n",
      "partial answer: poi che ne faccio da che fare che sì non solo con l'altro che a una volta un bel sorriso e mi ha in spiaggia per\n",
      "chose fa\n",
      "partial answer: poi che ne faccio da che fare che sì non solo con l'altro che a una volta un bel sorriso e mi ha in spiaggia per paura\n",
      "chose la\n",
      "partial answer: poi che ne faccio da che fare che sì non solo con l'altro che a una volta un bel sorriso e mi ha in spiaggia per paura fa\n",
      "chose faccio\n",
      "partial answer: poi che ne faccio da che fare che sì non solo con l'altro che a una volta un bel sorriso e mi ha in spiaggia per paura fa la\n",
      "chose se\n",
      "partial answer: poi che ne faccio da che fare che sì non solo con l'altro che a una volta un bel sorriso e mi ha in spiaggia per paura fa la faccio\n",
      "chose non\n",
      "partial answer: poi che ne faccio da che fare che sì non solo con l'altro che a una volta un bel sorriso e mi ha in spiaggia per paura fa la faccio se\n",
      "chose un\n",
      "partial answer: poi che ne faccio da che fare che sì non solo con l'altro che a una volta un bel sorriso e mi ha in spiaggia per paura fa la faccio se non\n",
      "chose !cit\n",
      "partial answer: poi che ne faccio da che fare che sì non solo con l'altro che a una volta un bel sorriso e mi ha in spiaggia per paura fa la faccio se non un\n",
      "chose *\n",
      "partial answer: poi che ne faccio da che fare che sì non solo con l'altro che a una volta un bel sorriso e mi ha in spiaggia per paura fa la faccio se non un !cit\n",
      "final result ['poi', 'che', 'ne', 'faccio', 'da', 'che', 'fare', 'che', 'sì', 'non', 'solo', 'con', \"l'altro\", 'che', 'a', 'una', 'volta', 'un', 'bel', 'sorriso', 'e', 'mi', 'ha', 'in', 'spiaggia', 'per', 'paura', 'fa', 'la', 'faccio', 'se', 'non', 'un', '!cit', '*']\n"
     ]
    }
   ],
   "source": [
    "import time\n",
    "import random\n",
    "\n",
    "# stopwords_it = set([\"a\",\"ad\",\"agl\",\"agli\",\"ai\",\"al\",\"alcuna\",\"alcuni\",\"alcuno\",\"all\",\"alla\",\"alle\",\"allo\",\"allora\",\"altri\",\"altro\",\"anche\",\"ancora\",\"aver\",\"avere\",\"averlo\",\"avesse\",\"avessero\",\"avessi\",\"avessimo\",\"aveste\",\"avesti\",\"avete\",\"aveva\",\"avevamo\",\"avevano\",\"avevate\",\"avevi\",\"avevo\",\"avrai\",\"avranno\",\"avrebbe\",\"avrebbero\",\"avrei\",\"avremmo\",\"avremo\",\"avreste\",\"avresti\",\"avrete\",\"avrà\",\"avrò\",\"avuta\",\"avute\",\"avuti\",\"avuto\",\n",
    "#                    \"basta\",\"è\",\"il\",\"le\", \"che\", \"un\",\"una\",\"uno\",\"perché\",\"mi\",\"di\",\"ma\",\"per\",\"in\",\"non\",\"e\",\"si\",\"sto\",\"la\",\"lo\",\"gli\",\"con\",\"nel\",\"già\",\"da\",\"i\",\"sono\",\"come\",\"se\",\"io\",\"ho\",\"più\",\"però\",\"ti\",\"su\",\"hai\",\"fa\",\"per\",\"tra\",\"fra\",\"me\",\"ha\",\"ci\",\"del\",\"poi\",\"o\",\"cosa\",\"cose\",\"mai\",\"fare\"])\n",
    "\n",
    "external_token = '**EXTERNAL**'\n",
    "\n",
    "def continuations(first_token, num=5):\n",
    "    # table bigrams: (token1, token2, counter)\n",
    "    named_cur = conn.cursor('window_read_cursor')\n",
    "    named_cur.execute(\"SELECT SUM(counter) as total FROM bigrams WHERE token1 = %s\", (first_token,))\n",
    "    total = named_cur.fetchone()[0]\n",
    "    named_cur.close()\n",
    "    \n",
    "    chosen_totals = [random.randint(0, total) for i in range(num)]\n",
    "    chosen_tokens = []\n",
    "    # print(f'there are {total} know successors to {first_token}, chosen ones are #{chosen_totals}')\n",
    "    \n",
    "    named_cur = conn.cursor('window_read_cursor')\n",
    "    named_cur.execute(\"SELECT token2, counter FROM bigrams WHERE token1 = %s\", (first_token,))\n",
    "    for record in named_cur:\n",
    "        subtraction_value = int(record[1])\n",
    "        chosen_totals = [c - subtraction_value for c in chosen_totals]\n",
    "        for ct in chosen_totals:\n",
    "            if ct < 0 and ct + subtraction_value > 0:\n",
    "                #print(f'adding successor {record[0]}')\n",
    "                chosen_tokens.append(record[0])\n",
    "                \n",
    "        if all(map(lambda k: k < 0, chosen_totals)):\n",
    "            break\n",
    "    named_cur.close()\n",
    "    return sorted(chosen_tokens)\n",
    "\n",
    "sample_question = 'Milano non è poi così brutta, no?'.lower().split()\n",
    "\n",
    "current_token = None\n",
    "chosen_answer = []\n",
    "while current_token != '*':\n",
    "    if current_token is None:\n",
    "        current_token = '*'\n",
    "    next_candidates = continuations(current_token, num=400)\n",
    "    named_cur = conn.cursor('window_read_cursor')\n",
    "    named_cur.execute(\"select word_a, SUM(relevance) from relevances where word_q = ANY(%s) AND word_q = ANY(%s)  GROUP BY word_a;\", (sample_question, next_candidates))\n",
    "    # counter for how many times this word was used replying to messges containing the question words\n",
    "    qa_counts = [0.00000000000000001] * len(next_candidates)\n",
    "\n",
    "    for record in named_cur:\n",
    "        #print('raw record', record)\n",
    "        if record[0] in next_candidates:\n",
    "            qa_counts[next_candidates.index(record[0])] = float(record[1])\n",
    "\n",
    "    named_cur.close()\n",
    "    # print('qa_counts:', qa_counts)\n",
    "    # now pick a continuation based on the co-occurrency counts\n",
    "    chosen_sum = random.random() * sum(qa_counts)\n",
    "    for i in range(len(qa_counts)):\n",
    "        chosen_sum -= qa_counts[i]\n",
    "        if chosen_sum <= 0:\n",
    "            current_token = next_candidates[i]\n",
    "            print('chose', current_token)\n",
    "            print('partial answer:', ' '.join(chosen_answer))\n",
    "            chosen_answer.append(next_candidates[i])\n",
    "            break\n",
    "    # randomly end\n",
    "print('final result', chosen_answer)"
   ]
  },
  {
   "cell_type": "code",
   "execution_count": null,
   "metadata": {
    "collapsed": true,
    "deletable": true,
    "editable": true
   },
   "outputs": [],
   "source": [
    ""
   ]
  }
 ],
 "metadata": {
  "celltoolbar": "Raw Cell Format",
  "kernelspec": {
   "display_name": "Python 3",
   "language": "python",
   "name": "python3"
  },
  "language_info": {
   "codemirror_mode": {
    "name": "ipython",
    "version": 3.0
   },
   "file_extension": ".py",
   "mimetype": "text/x-python",
   "name": "python",
   "nbconvert_exporter": "python",
   "pygments_lexer": "ipython3",
   "version": "3.6.0"
  }
 },
 "nbformat": 4,
 "nbformat_minor": 0
}